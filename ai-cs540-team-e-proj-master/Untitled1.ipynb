{
 "cells": [
  {
   "cell_type": "code",
   "execution_count": 2,
   "metadata": {
    "collapsed": false
   },
   "outputs": [
    {
     "name": "stdout",
     "output_type": "stream",
     "text": [
      "13\n",
      "remainder [1, 0, 1, 1]\n",
      "reverse remainder [1, 1, 0, 1]\n",
      "binary result [1, 1, 0, 1]\n",
      "length of bin num:  4\n",
      "inner loop i=  0\n",
      "bin num[i]=  [1]\n",
      "count 1\n",
      "maxCount=  1\n",
      "inner loop i=  1\n",
      "bin num[i]=  [1]\n",
      "count 2\n",
      "maxCount=  2\n",
      "inner loop i=  2\n",
      "bin num[i]=  [0]\n",
      "inner loop i=  3\n",
      "bin num[i]=  [1]\n",
      "count 1\n",
      "maxCount=  2\n",
      "result 2\n"
     ]
    }
   ],
   "source": [
    "#!/bin/python3\n",
    "\n",
    "import sys\n",
    "\n",
    "\n",
    "arr = []\n",
    "for arr_i in range(6):\n",
    "   arr_t = [int(arr_temp) for arr_temp in input().strip().split(' ')]\n",
    "   arr.append(arr_t)\n",
    "for i, j in range (0, 3)\n",
    "hourGlassElements    \n",
    "    \n",
    "        \n",
    "    \n",
    "    \n",
    "    \n"
   ]
  },
  {
   "cell_type": "markdown",
   "metadata": {
    "collapsed": true
   },
   "source": [
    "5\n"
   ]
  },
  {
   "cell_type": "code",
   "execution_count": null,
   "metadata": {
    "collapsed": true
   },
   "outputs": [],
   "source": []
  }
 ],
 "metadata": {
  "anaconda-cloud": {},
  "kernelspec": {
   "display_name": "Python [default]",
   "language": "python",
   "name": "python3"
  },
  "language_info": {
   "codemirror_mode": {
    "name": "ipython",
    "version": 3
   },
   "file_extension": ".py",
   "mimetype": "text/x-python",
   "name": "python",
   "nbconvert_exporter": "python",
   "pygments_lexer": "ipython3",
   "version": "3.5.2"
  }
 },
 "nbformat": 4,
 "nbformat_minor": 1
}
